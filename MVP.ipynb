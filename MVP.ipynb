{
 "cells": [
  {
   "cell_type": "code",
   "execution_count": 2,
   "metadata": {},
   "outputs": [],
   "source": [
    "from sklearn import datasets\n",
    "from sklearn.model_selection import train_test_split\n",
    "from matplotlib import pyplot as plt\n",
    "import numpy as np"
   ]
  },
  {
   "cell_type": "code",
   "execution_count": 3,
   "metadata": {},
   "outputs": [],
   "source": [
    "X, y = datasets.make_classification(n_features=8, \n",
    "                                    n_classes=3, \n",
    "                                    n_informative=5, \n",
    "                                    n_samples=1200,\n",
    "                                    n_clusters_per_class=2)"
   ]
  },
  {
   "cell_type": "code",
   "execution_count": 4,
   "metadata": {},
   "outputs": [],
   "source": [
    "X_train, X_test, y_train, y_test = train_test_split(X, y)"
   ]
  },
  {
   "cell_type": "code",
   "execution_count": 6,
   "metadata": {
    "code_folding": [
     0
    ]
   },
   "outputs": [],
   "source": [
    "class SoftMaxRegression():\n",
    "    def __init__(self):\n",
    "        self.classes = None\n",
    "        self.weights = None\n",
    "        self.log_loss = []\n",
    "        self.train_score = []\n",
    "        \n",
    "    def fit(self, X, y):\n",
    "        self.classes = len(np.unique(y))\n",
    "        X = np.concatenate((np.ones((X.shape[0], 1)), X), axis=1)\n",
    "        self.weights = np.ones((X.shape[1], self.classes))\n",
    "        \n",
    "        for i in range(2000):\n",
    "            s_k = X.dot(self.weights)\n",
    "            p_k = self.softmax(s_k)\n",
    "            \n",
    "            y_k = np.zeros((X.shape[0], self.classes))\n",
    "            y_k[np.arange(len(y)), y] = 1\n",
    "            \n",
    "            dw = 1 / len(y) * X.T.dot(p_k - y_k)\n",
    "            self.weights -= dw * 0.1\n",
    "            \n",
    "            self.log_loss.append(-np.mean(np.log(p_k[np.arange(len(y)), y])))\n",
    "            self.train_score.append(self.score(self.predict(X[:, 1:]), y))\n",
    "    \n",
    "    def predict(self, X):\n",
    "        X = np.concatenate((np.ones((X.shape[0], 1)), X), axis=1)\n",
    "        s_k = X.dot(self.weights)\n",
    "        p_k = self.softmax(s_k)\n",
    "        return np.argmax(p_k, axis=1)  \n",
    "    \n",
    "    def score(self, predicted, y):\n",
    "        return np.sum(predicted == y) / len(y)\n",
    "    \n",
    "    def softmax(self, s_k):\n",
    "        exp = np.exp(s_k - np.max(s_k))\n",
    "        for i in range(len(s_k)):\n",
    "            exp[i] /= np.sum(exp[i])\n",
    "        return exp"
   ]
  },
  {
   "cell_type": "code",
   "execution_count": 7,
   "metadata": {
    "code_folding": [
     0
    ]
   },
   "outputs": [],
   "source": [
    "class KNN:\n",
    "    def __init__(self, k=3):\n",
    "        self.k = k\n",
    "        self.X_train = None\n",
    "        self.y_train = None\n",
    "    \n",
    "    def fit(self, X, y):\n",
    "        self.X_train = X\n",
    "        self.y_train = y\n",
    "    \n",
    "    def distance(self, x0, x1):\n",
    "        return np.sqrt(np.sum((x0 - x1)**2))\n",
    "    \n",
    "    def most_common(self, y):\n",
    "        labels = np.unique(y)\n",
    "        count = [list(y).count(i) for i in labels]\n",
    "        return labels[np.argmax(count)]\n",
    "    \n",
    "    def predict(self, X_test):\n",
    "        labels = [self.find_labels(x) for x in X_test]\n",
    "        return np.array(labels)\n",
    "    \n",
    "    def find_labels(self, x):\n",
    "        distances = [self.distance(x, x_train) for x_train in self.X_train]\n",
    "        k_nearest = np.argsort(distances)[:self.k] \n",
    "        labels = [self.y_train[i] for i in k_nearest]\n",
    "        return self.most_common(labels)\n",
    "    \n",
    "    def score(self, predict, y):\n",
    "        return np.sum(predict == y) / len(y)"
   ]
  },
  {
   "cell_type": "code",
   "execution_count": 8,
   "metadata": {
    "code_folding": [
     0
    ]
   },
   "outputs": [],
   "source": [
    "class Node:\n",
    "    def __init__(self, feature=None, threshold=None, left=None, right=None, *, value=None):\n",
    "        self.feature = feature\n",
    "        self.threshold = threshold\n",
    "        self.left = left\n",
    "        self.right = right\n",
    "        self.value = value\n",
    "    \n",
    "    def is_leaf_node(self):\n",
    "        return self.value is not None"
   ]
  },
  {
   "cell_type": "code",
   "execution_count": 9,
   "metadata": {
    "code_folding": [
     0
    ],
    "run_control": {
     "marked": false
    }
   },
   "outputs": [],
   "source": [
    "class DecisionTree:\n",
    "    def __init__(self, min_samples=2, max_depth=10):\n",
    "        self.min_samples = min_samples\n",
    "        self.max_depth = max_depth\n",
    "        self.tree = []\n",
    "    \n",
    "    def fit(self, X, y):\n",
    "        self.tree = self.grow_tree(X, y)\n",
    "    \n",
    "    def predict(self, X):\n",
    "        return np.array([self.travers_tree(x, self.tree) for x in X])\n",
    "    \n",
    "    def most_common(self, y): \n",
    "        labels = np.unique(y)       \n",
    "        count = [list(y).count(i) for i in labels]        \n",
    "        return labels[np.argmax(count)]\n",
    "    \n",
    "    def entropy(self, y):\n",
    "        hist = np.bincount(y)\n",
    "        ps = hist / len(y)\n",
    "        entr = -np.sum([p * np.log2(p) for p in ps if p > 0])\n",
    "        gini = np.sum([p * (1 - p) for p in ps])\n",
    "        return entr\n",
    "    \n",
    "    def best_split(self, X, y):\n",
    "        best_feature, best_threshold = None, None\n",
    "        best_gain = -1\n",
    "        \n",
    "        for i in range(X.shape[1]):\n",
    "            thresholds = np.unique(X[:, i])\n",
    "            for threshold in thresholds:\n",
    "                gain = self.information_gain(X[:, i], y, threshold)\n",
    "                if gain > best_gain:\n",
    "                    best_gain = gain\n",
    "                    best_feature = i\n",
    "                    best_threshold = threshold\n",
    "        \n",
    "        return best_feature, best_threshold\n",
    "    \n",
    "    def information_gain(self, X_column, y, threshold):        \n",
    "        if len(np.unique(y)) == 1: \n",
    "            return -1\n",
    "        \n",
    "        n = len(y)\n",
    "        parent = self.entropy(y)\n",
    "        \n",
    "        left_indexes = np.argwhere(X_column <= threshold).flatten()\n",
    "        right_indexes = np.argwhere(X_column > threshold).flatten()\n",
    "        \n",
    "        if len(left_indexes) == 0 or len(right_indexes) == 0:\n",
    "            return -1\n",
    "    \n",
    "        e_l, n_l = self.entropy(y[left_indexes]), len(left_indexes)\n",
    "        e_r, n_r = self.entropy(y[right_indexes]), len(right_indexes)\n",
    "        \n",
    "        child = (n_l / n) * e_l + (n_r / n) * e_r\n",
    "        return parent - child\n",
    "    \n",
    "    def grow_tree(self, X, y, depth=0):\n",
    "        best_feature, best_threshold = None, None\n",
    "        n_samples = X.shape[0]\n",
    "        n_labels = len(np.unique(y))\n",
    "\n",
    "        if n_samples < self.min_samples or n_labels == 1 or depth >= self.max_depth:\n",
    "            return Node(value=self.most_common(y))\n",
    "        \n",
    "        best_feature, best_threshold = self.best_split(X, y)\n",
    "        \n",
    "        if best_feature == None or best_threshold == None:\n",
    "            return Node(value=self.most_common(y))\n",
    "        \n",
    "        left_indexes = np.argwhere(X[:, best_feature] <= best_threshold).flatten()\n",
    "        right_indexes = np.argwhere(X[:, best_feature] > best_threshold).flatten()\n",
    "        \n",
    "        if len(left_indexes) == 0 or len(right_indexes) == 0:\n",
    "            return Node(value=self.most_common(y))\n",
    "\n",
    "        left = self.grow_tree(X[left_indexes, :], y[left_indexes], depth+1)\n",
    "        right = self.grow_tree(X[right_indexes, :], y[right_indexes], depth+1)\n",
    "        \n",
    "        return Node(best_feature, best_threshold, left, right)\n",
    "    \n",
    "    def travers_tree(self, x, tree):\n",
    "        if tree.is_leaf_node():\n",
    "            return tree.value\n",
    "        \n",
    "        if x[tree.feature] <= tree.threshold:\n",
    "            return self.travers_tree(x, tree.left)\n",
    "\n",
    "        return self.travers_tree(x, tree.right)\n",
    "    \n",
    "    def score(self, predict, y):\n",
    "        return np.sum(predict == y) / len(y)"
   ]
  },
  {
   "cell_type": "code",
   "execution_count": 10,
   "metadata": {},
   "outputs": [],
   "source": [
    "models = [SoftMaxRegression(), KNN(k=3), DecisionTree()]\n",
    "meta = [KNN(k=5)]"
   ]
  },
  {
   "cell_type": "code",
   "execution_count": 19,
   "metadata": {
    "code_folding": []
   },
   "outputs": [],
   "source": [
    "class Blending:\n",
    "    def __init__(self, models):\n",
    "        self.models = models[:-1]\n",
    "        self.meta = None\n",
    "        self.fitted_models = []\n",
    "        \n",
    "    def fit(self, X, y):\n",
    "        n = int(X.shape[0] / 3)\n",
    "        \n",
    "        X0, y0 = X[:n, :], y[:n]\n",
    "        X1, y1 = X[n: n*2, :], y[n: n*2]\n",
    "        X2, y2 = X[n*2:, :], y[n*2:]\n",
    "        \n",
    "        exits, models_score = self.predict_exits(X0, y0, X1, y1)\n",
    "        self.meta.fit(exits, y1)   \n",
    "        \n",
    "        exits, models_score = self.predict_exits(X1, y1, X2, y2, fit_models=False)\n",
    "        predicted = self.meta.predict(exits)\n",
    "        \n",
    "        return self.score(predicted, y2), models_score\n",
    "        \n",
    "    def predict_exits(self, X0, y0, X1, y1, fit_models=True):\n",
    "        exits = None\n",
    "        models_score = []\n",
    "        \n",
    "        for i in range(len(self.models)):\n",
    "            \n",
    "            if fit_models:\n",
    "                clf = self.models[i]\n",
    "                clf.fit(X0, y0)\n",
    "                self.fitted_models.append(clf)\n",
    "                predict = clf.predict(X1)\n",
    "            else:\n",
    "                predict = self.fitted_models[i].predict(X1)\n",
    "\n",
    "            if exits is not None:\n",
    "                exits = np.hstack((exits, predict[:, np.newaxis]))\n",
    "            else:\n",
    "                exits = predict[:, np.newaxis]\n",
    "                \n",
    "            models_score.append(self.score(predict, y1))\n",
    "            \n",
    "        return exits, models_score\n",
    "    \n",
    "    def score(self, predicted, y):\n",
    "        return np.sum(predicted == y) / len(y)"
   ]
  },
  {
   "cell_type": "code",
   "execution_count": 20,
   "metadata": {},
   "outputs": [
    {
     "data": {
      "text/plain": [
       "(0.7975, [0.6975, 0.82, 0.75])"
      ]
     },
     "execution_count": 20,
     "metadata": {},
     "output_type": "execute_result"
    }
   ],
   "source": [
    "blend = Blending(models)\n",
    "blend.fit(X_train, y_train)"
   ]
  },
  {
   "cell_type": "code",
   "execution_count": null,
   "metadata": {},
   "outputs": [],
   "source": []
  },
  {
   "cell_type": "code",
   "execution_count": 288,
   "metadata": {
    "scrolled": true
   },
   "outputs": [],
   "source": [
    "exits = None\n",
    "fitted_models = []\n",
    "\n",
    "X0, X1, y0, y1 = train_test_split(X, y, train_size=0.3)\n",
    "X1, X2, y1, y2 = train_test_split(X1, y1, train_size=0.5)\n",
    "\n",
    "for model in models[:-1]:\n",
    "    clf = model\n",
    "    clf.fit(X0, y0)\n",
    "    fitted_models.append(clf)"
   ]
  },
  {
   "cell_type": "code",
   "execution_count": 289,
   "metadata": {},
   "outputs": [
    {
     "name": "stdout",
     "output_type": "stream",
     "text": [
      "score:  0.73  model:  SoftMaxRegression\n",
      "score:  0.78  model:  KNN\n",
      "score:  0.78  model:  KNN\n",
      "score:  0.73  model:  DecisionTree\n",
      "score:  0.73  model:  DecisionTree\n"
     ]
    }
   ],
   "source": [
    "for fitted_model in fitted_models:    \n",
    "    predict = fitted_model.predict(X1)\n",
    "    print(\"score: \", str(fitted_model.score(predict, y1))[:4], \" model: \", str(fitted_model)[10: -30])\n",
    "    predict = predict[:, np.newaxis]\n",
    "      \n",
    "    if exits is not None:\n",
    "        exits = np.hstack((exits, predict))\n",
    "    else:\n",
    "        exits = predict"
   ]
  },
  {
   "cell_type": "code",
   "execution_count": 290,
   "metadata": {},
   "outputs": [
    {
     "data": {
      "text/plain": [
       "0.8131868131868132"
      ]
     },
     "execution_count": 290,
     "metadata": {},
     "output_type": "execute_result"
    }
   ],
   "source": [
    "labels = [clf.most_common(exits[i]) for i in range(len(y1))]\n",
    "np.sum(labels == y1) / len(y1)"
   ]
  },
  {
   "cell_type": "code",
   "execution_count": 291,
   "metadata": {},
   "outputs": [],
   "source": [
    "meta_model = models[-1]\n",
    "meta_model.fit(exits, y1)"
   ]
  },
  {
   "cell_type": "code",
   "execution_count": 292,
   "metadata": {},
   "outputs": [
    {
     "name": "stdout",
     "output_type": "stream",
     "text": [
      "score:  0.747  model:  SoftMaxRegression\n",
      "score:  0.775  model:  KNN\n",
      "score:  0.784  model:  KNN\n",
      "score:  0.784  model:  DecisionTree\n",
      "score:  0.784  model:  DecisionTree\n"
     ]
    }
   ],
   "source": [
    "exits = None\n",
    "\n",
    "for fitted_model in fitted_models:    \n",
    "    predict = fitted_model.predict(X2)\n",
    "    print(\"score: \", str(fitted_model.score(predict, y2))[:5], \" model: \", str(fitted_model)[10: -30])\n",
    "    predict = predict[:, np.newaxis]\n",
    "      \n",
    "    if exits is not None:\n",
    "        exits = np.hstack((exits, predict))\n",
    "    else:\n",
    "        exits = predict"
   ]
  },
  {
   "cell_type": "code",
   "execution_count": 293,
   "metadata": {},
   "outputs": [
    {
     "data": {
      "text/plain": [
       "0.8021978021978022"
      ]
     },
     "execution_count": 293,
     "metadata": {},
     "output_type": "execute_result"
    }
   ],
   "source": [
    "predicted = meta_model.predict(exits)\n",
    "meta_model.score(predicted, y2)"
   ]
  },
  {
   "cell_type": "code",
   "execution_count": null,
   "metadata": {},
   "outputs": [],
   "source": []
  },
  {
   "cell_type": "code",
   "execution_count": null,
   "metadata": {},
   "outputs": [],
   "source": []
  },
  {
   "cell_type": "code",
   "execution_count": null,
   "metadata": {},
   "outputs": [],
   "source": []
  },
  {
   "cell_type": "code",
   "execution_count": 11,
   "metadata": {
    "code_folding": [
     0
    ]
   },
   "outputs": [
    {
     "data": {
      "image/png": "[encoded data removed]",
      "text/plain": [
       "<Figure size 288x288 with 1 Axes>"
      ]
     },
     "metadata": {
      "needs_background": "light"
     },
     "output_type": "display_data"
    }
   ],
   "source": [
    "def back_ground(model, X):\n",
    "    x_min, x_max = X[:, 0].min(), X[:, 0].max()\n",
    "    y_min, y_max = X[:, 1].min(), X[:, 1].max()\n",
    "    \n",
    "    step = 200\n",
    "\n",
    "    xx, yy = np.meshgrid(np.arange(x_min, x_max + (x_max-x_min) / step, (x_max-x_min) / step),\n",
    "                         np.arange(y_min, y_max + (y_max-y_min) / step, (y_max-y_min) / step))\n",
    "\n",
    "    Z = model.predict(np.c_[xx.ravel(), yy.ravel()])\n",
    "    Z = Z.reshape(xx.shape)    \n",
    "    \n",
    "    return xx, yy, Z\n",
    "\n",
    "X = X_train\n",
    "y = y_train\n",
    "\n",
    "xx, yy, Z = back_ground(clf, X)\n",
    "\n",
    "fig, axs = plt.subplots(figsize=(4, 4))\n",
    "\n",
    "plt.plot(X[y==0, 0], X[y==0, 1], \"or\", label=\"class -1\")\n",
    "plt.plot(X[y==1, 0], X[y==1, 1], \"og\", label=\"class 1\")\n",
    "plt.plot(X[y==2, 0], X[y==2, 1], \"ob\", label=\"class 2\")\n",
    "# plt.plot(X[y==3, 0], X[y==3, 1], \"ok\", label=\"class 3\")\n",
    "\n",
    "plt.contourf(xx, yy, Z, alpha=0.5)\n",
    "plt.legend()\n",
    "plt.xlabel(\"x0\")\n",
    "plt.ylabel(\"x1\")\n",
    "\n",
    "plt.show()"
   ]
  },
  {
   "cell_type": "code",
   "execution_count": null,
   "metadata": {},
   "outputs": [],
   "source": []
  }
 ],
 "metadata": {
  "kernelspec": {
   "display_name": "Python 3.8.3 64-bit",
   "name": "python383jvsc74a57bd02db524e06e9f5f4ffedc911c917cb75e12dbc923643829bf417064a77eb14d37"
  },
  "language_info": {
   "name": "python",
   "version": ""
  },
  "toc": {
   "base_numbering": 1,
   "nav_menu": {},
   "number_sections": true,
   "sideBar": true,
   "skip_h1_title": false,
   "title_cell": "Table of Contents",
   "title_sidebar": "Contents",
   "toc_cell": false,
   "toc_position": {},
   "toc_section_display": true,
   "toc_window_display": false
  },
  "varInspector": {
   "cols": {
    "lenName": 16,
    "lenType": 16,
    "lenVar": 40
   },
   "kernels_config": {
    "python": {
     "delete_cmd_postfix": "",
     "delete_cmd_prefix": "del ",
     "library": "var_list.py",
     "varRefreshCmd": "print(var_dic_list())"
    },
    "r": {
     "delete_cmd_postfix": ") ",
     "delete_cmd_prefix": "rm(",
     "library": "var_list.r",
     "varRefreshCmd": "cat(var_dic_list()) "
    }
   },
   "types_to_exclude": [
    "module",
    "function",
    "builtin_function_or_method",
    "instance",
    "_Feature"
   ],
   "window_display": false
  }
 },
 "nbformat": 4,
 "nbformat_minor": 4
}