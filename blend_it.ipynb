{
 "cells": [
  {
   "cell_type": "code",
   "execution_count": 59,
   "metadata": {},
   "outputs": [],
   "source": [
    "from sklearn import datasets\n",
    "from sklearn.model_selection import train_test_split\n",
    "from matplotlib import pyplot as plt\n",
    "import numpy as np"
   ]
  },
  {
   "cell_type": "code",
   "execution_count": 84,
   "metadata": {},
   "outputs": [],
   "source": [
    "X, y = datasets.make_classification(n_features=2, \r\n",
    "                                    n_classes=3, \r\n",
    "                                    n_informative=2,\r\n",
    "                                    n_redundant=0, \r\n",
    "                                    n_samples=3000,\r\n",
    "                                    n_clusters_per_class=1)"
   ]
  },
  {
   "cell_type": "code",
   "execution_count": 85,
   "metadata": {},
   "outputs": [],
   "source": [
    "X_train, X_test, y_train, y_test = train_test_split(X, y, train_size=0.66)"
   ]
  },
  {
   "cell_type": "code",
   "execution_count": 62,
   "metadata": {
    "code_folding": [
     0
    ]
   },
   "outputs": [],
   "source": [
    "class SoftMaxRegression():\n",
    "    def __init__(self):\n",
    "        self.classes = None\n",
    "        self.weights = None\n",
    "        self.log_loss = []\n",
    "        self.train_score = []\n",
    "        \n",
    "    def fit(self, X, y):\n",
    "        self.classes = len(np.unique(y))\n",
    "        X = np.concatenate((np.ones((X.shape[0], 1)), X), axis=1)\n",
    "        self.weights = np.ones((X.shape[1], self.classes))\n",
    "        \n",
    "        for i in range(2000):\n",
    "            s_k = X.dot(self.weights)\n",
    "            p_k = self.softmax(s_k)\n",
    "            \n",
    "            y_k = np.zeros((X.shape[0], self.classes))\n",
    "            y_k[np.arange(len(y)), y] = 1\n",
    "            \n",
    "            dw = 1 / len(y) * X.T.dot(p_k - y_k)\n",
    "            self.weights -= dw * 0.1\n",
    "            \n",
    "            self.log_loss.append(-np.mean(np.log(p_k[np.arange(len(y)), y])))\n",
    "            self.train_score.append(self.score(self.predict(X[:, 1:]), y))\n",
    "    \n",
    "    def predict(self, X):\n",
    "        X = np.concatenate((np.ones((X.shape[0], 1)), X), axis=1)\n",
    "        s_k = X.dot(self.weights)\n",
    "        p_k = self.softmax(s_k)\n",
    "        return np.argmax(p_k, axis=1)  \n",
    "    \n",
    "    def score(self, predicted, y):\n",
    "        return np.sum(predicted == y) / len(y)\n",
    "    \n",
    "    def softmax(self, s_k):\n",
    "        exp = np.exp(s_k - np.max(s_k))\n",
    "        for i in range(len(s_k)):\n",
    "            exp[i] /= np.sum(exp[i])\n",
    "        return exp"
   ]
  },
  {
   "cell_type": "code",
   "execution_count": 63,
   "metadata": {
    "code_folding": [
     0
    ]
   },
   "outputs": [],
   "source": [
    "class KNN:\n",
    "    def __init__(self, k=3):\n",
    "        self.k = k\n",
    "        self.X_train = None\n",
    "        self.y_train = None\n",
    "    \n",
    "    def fit(self, X, y):\n",
    "        self.X_train = X\n",
    "        self.y_train = y\n",
    "    \n",
    "    def distance(self, x0, x1):\n",
    "        return np.sqrt(np.sum((x0 - x1)**2))\n",
    "    \n",
    "    def most_common(self, y):\n",
    "        labels = np.unique(y)\n",
    "        count = [list(y).count(i) for i in labels]\n",
    "        return labels[np.argmax(count)]\n",
    "    \n",
    "    def predict(self, X_test):\n",
    "        labels = [self.find_labels(x) for x in X_test]\n",
    "        return np.array(labels)\n",
    "    \n",
    "    def find_labels(self, x):\n",
    "        distances = [self.distance(x, x_train) for x_train in self.X_train]\n",
    "        k_nearest = np.argsort(distances)[:self.k] \n",
    "        labels = [self.y_train[i] for i in k_nearest]\n",
    "        return self.most_common(labels)\n",
    "    \n",
    "    def score(self, predict, y):\n",
    "        return np.sum(predict == y) / len(y)"
   ]
  },
  {
   "cell_type": "code",
   "execution_count": 64,
   "metadata": {
    "code_folding": [
     0
    ]
   },
   "outputs": [],
   "source": [
    "class Node:\n",
    "    def __init__(self, feature=None, threshold=None, left=None, right=None, *, value=None):\n",
    "        self.feature = feature\n",
    "        self.threshold = threshold\n",
    "        self.left = left\n",
    "        self.right = right\n",
    "        self.value = value\n",
    "    \n",
    "    def is_leaf_node(self):\n",
    "        return self.value is not None"
   ]
  },
  {
   "cell_type": "code",
   "execution_count": 65,
   "metadata": {
    "code_folding": [
     0
    ],
    "run_control": {
     "marked": false
    }
   },
   "outputs": [],
   "source": [
    "class DecisionTree:\n",
    "    def __init__(self, min_samples=2, max_depth=10):\n",
    "        self.min_samples = min_samples\n",
    "        self.max_depth = max_depth\n",
    "        self.tree = []\n",
    "    \n",
    "    def fit(self, X, y):\n",
    "        self.tree = self.grow_tree(X, y)\n",
    "    \n",
    "    def predict(self, X):\n",
    "        return np.array([self.travers_tree(x, self.tree) for x in X])\n",
    "    \n",
    "    def most_common(self, y): \n",
    "        labels = np.unique(y)       \n",
    "        count = [list(y).count(i) for i in labels]        \n",
    "        return labels[np.argmax(count)]\n",
    "    \n",
    "    def entropy(self, y):\n",
    "        hist = np.bincount(y)\n",
    "        ps = hist / len(y)\n",
    "        entr = -np.sum([p * np.log2(p) for p in ps if p > 0])\n",
    "        gini = np.sum([p * (1 - p) for p in ps])\n",
    "        return entr\n",
    "    \n",
    "    def best_split(self, X, y):\n",
    "        best_feature, best_threshold = None, None\n",
    "        best_gain = -1\n",
    "        \n",
    "        for i in range(X.shape[1]):\n",
    "            thresholds = np.unique(X[:, i])\n",
    "            for threshold in thresholds:\n",
    "                gain = self.information_gain(X[:, i], y, threshold)\n",
    "                if gain > best_gain:\n",
    "                    best_gain = gain\n",
    "                    best_feature = i\n",
    "                    best_threshold = threshold\n",
    "        \n",
    "        return best_feature, best_threshold\n",
    "    \n",
    "    def information_gain(self, X_column, y, threshold):        \n",
    "        if len(np.unique(y)) == 1: \n",
    "            return -1\n",
    "        \n",
    "        n = len(y)\n",
    "        parent = self.entropy(y)\n",
    "        \n",
    "        left_indexes = np.argwhere(X_column <= threshold).flatten()\n",
    "        right_indexes = np.argwhere(X_column > threshold).flatten()\n",
    "        \n",
    "        if len(left_indexes) == 0 or len(right_indexes) == 0:\n",
    "            return -1\n",
    "    \n",
    "        e_l, n_l = self.entropy(y[left_indexes]), len(left_indexes)\n",
    "        e_r, n_r = self.entropy(y[right_indexes]), len(right_indexes)\n",
    "        \n",
    "        child = (n_l / n) * e_l + (n_r / n) * e_r\n",
    "        return parent - child\n",
    "    \n",
    "    def grow_tree(self, X, y, depth=0):\n",
    "        best_feature, best_threshold = None, None\n",
    "        n_samples = X.shape[0]\n",
    "        n_labels = len(np.unique(y))\n",
    "\n",
    "        if n_samples < self.min_samples or n_labels == 1 or depth >= self.max_depth:\n",
    "            return Node(value=self.most_common(y))\n",
    "        \n",
    "        best_feature, best_threshold = self.best_split(X, y)\n",
    "        \n",
    "        if best_feature == None or best_threshold == None:\n",
    "            return Node(value=self.most_common(y))\n",
    "        \n",
    "        left_indexes = np.argwhere(X[:, best_feature] <= best_threshold).flatten()\n",
    "        right_indexes = np.argwhere(X[:, best_feature] > best_threshold).flatten()\n",
    "        \n",
    "        if len(left_indexes) == 0 or len(right_indexes) == 0:\n",
    "            return Node(value=self.most_common(y))\n",
    "\n",
    "        left = self.grow_tree(X[left_indexes, :], y[left_indexes], depth+1)\n",
    "        right = self.grow_tree(X[right_indexes, :], y[right_indexes], depth+1)\n",
    "        \n",
    "        return Node(best_feature, best_threshold, left, right)\n",
    "    \n",
    "    def travers_tree(self, x, tree):\n",
    "        if tree.is_leaf_node():\n",
    "            return tree.value\n",
    "        \n",
    "        if x[tree.feature] <= tree.threshold:\n",
    "            return self.travers_tree(x, tree.left)\n",
    "\n",
    "        return self.travers_tree(x, tree.right)\n",
    "    \n",
    "    def score(self, predict, y):\n",
    "        return np.sum(predict == y) / len(y)"
   ]
  },
  {
   "cell_type": "code",
   "execution_count": 66,
   "metadata": {},
   "outputs": [],
   "source": [
    "class RandomForest:\r\n",
    "    def __init__(self, n_trees=25, max_depth=100, min_samples=5):\r\n",
    "        self.n_trees = n_trees\r\n",
    "        self.max_depth = max_depth\r\n",
    "        self.min_samples = min_samples\r\n",
    "        self.trees = []\r\n",
    "        self.n_samples = None\r\n",
    "        self.samples = []\r\n",
    "        self.oob_samples = []\r\n",
    "        self.oob_results = []\r\n",
    "        \r\n",
    "    def fit(self, X, y):\r\n",
    "        self.n_samples = X.shape[0]\r\n",
    "        for i in range(self.n_trees):\r\n",
    "            samples = np.random.choice(self.n_samples, self.n_samples, replace=True)\r\n",
    "            oob_samples = np.array([j for j in range(self.n_samples) if j not in samples])\r\n",
    "            \r\n",
    "            tree = DecisionTree(max_depth = self.max_depth, min_samples=self.min_samples)\r\n",
    "            tree.fit(X[samples, :], y[samples])\r\n",
    "            self.oob_results.append(tree.predict(X[oob_samples, :]))\r\n",
    "            \r\n",
    "            self.trees.append(tree)\r\n",
    "            self.samples.append(samples)\r\n",
    "            self.oob_samples.append(oob_samples)\r\n",
    "\r\n",
    "    def predict(self, X):\r\n",
    "        predictions = []\r\n",
    "        for i in range(self.n_trees):\r\n",
    "            predictions.append(self.trees[i].predict(X))\r\n",
    "        \r\n",
    "        predictions = [self.trees[0].most_common(np.array(predictions)[:, i]) for i in range(X.shape[0])]\r\n",
    "        \r\n",
    "        return predictions\r\n",
    "    \r\n",
    "    def oob_score(self):\r\n",
    "        predictions = np.ones((self.n_trees, self.n_samples)) * np.nan\r\n",
    "        \r\n",
    "        for i in range(self.n_trees):\r\n",
    "            for index, sample in enumerate(self.oob_samples[i]):\r\n",
    "                predictions[i, sample] = self.oob_results[i][index]\r\n",
    "        \r\n",
    "        y_voted = []\r\n",
    "        y_real = []\r\n",
    "        \r\n",
    "        for i in range(self.n_samples):\r\n",
    "            oob_y = predictions[np.isnan(predictions[:, i])==False, i]\r\n",
    "            if len(oob_y) >= 1:\r\n",
    "                y_voted.append(self.trees[0].most_common(oob_y))\r\n",
    "                y_real.append(y[i] * 1.0)\r\n",
    "        \r\n",
    "        return self.score(np.array(y_voted), np.array(y_real))\r\n",
    "    \r\n",
    "    def score(self, predicted, y):\r\n",
    "        return np.sum(predicted == y) / len(y)"
   ]
  },
  {
   "cell_type": "code",
   "execution_count": 91,
   "metadata": {
    "code_folding": []
   },
   "outputs": [],
   "source": [
    "class Blending:\r\n",
    "    def __init__(self, models, meta):\r\n",
    "        self.models = models\r\n",
    "        self.models_score = []\r\n",
    "        self.meta = meta\r\n",
    "        self.fitted_models = []\r\n",
    "        \r\n",
    "    def fit(self, X, y):\r\n",
    "        X_train, X_test, y_train, y_test = train_test_split(X, y, train_size=0.5)\r\n",
    "        exits = None\r\n",
    "        \r\n",
    "        for model in self.models:\r\n",
    "            model.fit(X_train, y_train)\r\n",
    "            self.fitted_models.append(model)\r\n",
    "            \r\n",
    "            predictions = model.predict(X_test)\r\n",
    "            \r\n",
    "            if exits is not None:\r\n",
    "                exits = np.hstack((exits, predictions[:, np.newaxis]))\r\n",
    "            else:\r\n",
    "                exits = predictions[:, np.newaxis]\r\n",
    "        \r\n",
    "        self.meta.fit(exits, y_test)\r\n",
    "        self.fitted_models.append(self.meta)\r\n",
    "\r\n",
    "    def predict(self, X_test, y_test=None):\r\n",
    "        exits = None\r\n",
    "        \r\n",
    "        for model in self.fitted_models[:-1]:\r\n",
    "            predictions = model.predict(X_test)\r\n",
    "            if y_test is not None: \r\n",
    "                self.models_score.append(self.score(predictions, y_test))\r\n",
    "\r\n",
    "            if exits is not None:\r\n",
    "                exits = np.hstack((exits, predictions[:, np.newaxis]))\r\n",
    "            else:\r\n",
    "                exits = predictions[:, np.newaxis]\r\n",
    "        \r\n",
    "        predictions = self.fitted_models[-1].predict(exits)\r\n",
    "\r\n",
    "        if y_test is not None:\r\n",
    "            self.models_score.append(self.score(predictions, y_test))\r\n",
    "\r\n",
    "        return np.array(predictions)\r\n",
    "    \r\n",
    "    def score(self, predicted, y):\r\n",
    "        return np.sum(predicted == y) / len(y)"
   ]
  },
  {
   "cell_type": "code",
   "execution_count": 68,
   "metadata": {},
   "outputs": [],
   "source": [
    "clf = RandomForest()\r\n",
    "clf.fit(X_train, y_train)"
   ]
  },
  {
   "cell_type": "code",
   "execution_count": 69,
   "metadata": {},
   "outputs": [
    {
     "data": {
      "text/plain": "0.8833333333333333"
     },
     "execution_count": 69,
     "metadata": {},
     "output_type": "execute_result"
    }
   ],
   "source": [
    "predict = clf.predict(X_test)\r\n",
    "clf.score(predict, y_test)"
   ]
  },
  {
   "cell_type": "code",
   "execution_count": 92,
   "metadata": {},
   "outputs": [],
   "source": [
    "models = [SoftMaxRegression(), KNN(k=3), KNN(k=5), KNN(k=7), DecisionTree()]\r\n",
    "meta = RandomForest()\r\n",
    "\r\n",
    "blend = Blending(models, meta)\r\n",
    "blend.fit(X_train, y_train)"
   ]
  },
  {
   "cell_type": "code",
   "execution_count": 93,
   "metadata": {},
   "outputs": [],
   "source": [
    "_ = blend.predict(X_test, y_test)"
   ]
  },
  {
   "cell_type": "code",
   "execution_count": 94,
   "metadata": {},
   "outputs": [
    {
     "name": "stdout",
     "output_type": "stream",
     "text": [
      "Model:  SoftMaxRegression  its score  0.901\n",
      "Model:  KNN  its score  0.950\n",
      "Model:  KNN  its score  0.948\n",
      "Model:  KNN  its score  0.948\n",
      "Model:  DecisionTree  its score  0.907\n",
      "\n",
      "Meta Model:  RandomForest  its score  0.953\n"
     ]
    }
   ],
   "source": [
    "for index, model in enumerate(models):\r\n",
    "    print(\"Model: \",str(model)[10:-30], \" its score \", str(blend.models_score[index])[:5])\r\n",
    "\r\n",
    "print(\"\\nMeta Model: \",str(meta)[10:-30], \" its score \", str(blend.models_score[-1])[:5])"
   ]
  },
  {
   "cell_type": "code",
   "execution_count": 96,
   "metadata": {
    "code_folding": [
     0
    ]
   },
   "outputs": [
    {
     "data": {
      "image/png": "[encoded data removed]",
      "text/plain": "<Figure size 288x288 with 1 Axes>"
     },
     "metadata": {
      "needs_background": "light"
     },
     "output_type": "display_data"
    }
   ],
   "source": [
    "def back_ground(model, X):\r\n",
    "    x_min, x_max = X[:, 0].min(), X[:, 0].max()\r\n",
    "    y_min, y_max = X[:, 1].min(), X[:, 1].max()\r\n",
    "    \r\n",
    "    step = 100\r\n",
    "\r\n",
    "    xx, yy = np.meshgrid(np.arange(x_min, x_max + (x_max-x_min) / step, (x_max-x_min) / step),\r\n",
    "                         np.arange(y_min, y_max + (y_max-y_min) / step, (y_max-y_min) / step))\r\n",
    "\r\n",
    "    Z = model.predict(np.c_[xx.ravel(), yy.ravel()])\r\n",
    "    Z = Z.reshape(xx.shape)    \r\n",
    "    \r\n",
    "    return xx, yy, Z\r\n",
    "\r\n",
    "X = X_train\r\n",
    "y = y_train\r\n",
    "\r\n",
    "xx, yy, Z = back_ground(blend, X)\r\n",
    "\r\n",
    "fig, axs = plt.subplots(figsize=(4, 4))\r\n",
    "\r\n",
    "plt.plot(X[y==0, 0], X[y==0, 1], \"or\", label=\"class 0\")\r\n",
    "plt.plot(X[y==1, 0], X[y==1, 1], \"og\", label=\"class 1\")\r\n",
    "plt.plot(X[y==2, 0], X[y==2, 1], \"ob\", label=\"class 2\")\r\n",
    "\r\n",
    "plt.contourf(xx, yy, Z, alpha=0.5)\r\n",
    "plt.legend()\r\n",
    "plt.xlabel(\"x0\")\r\n",
    "plt.ylabel(\"x1\")\r\n",
    "\r\n",
    "plt.savefig(\"blending.png\")\r\n",
    "plt.show()"
   ]
  },
  {
   "cell_type": "code",
   "execution_count": null,
   "metadata": {},
   "outputs": [],
   "source": []
  }
 ],
 "metadata": {
  "kernelspec": {
   "display_name": "Python 3",
   "language": "python",
   "name": "python3"
  },
  "language_info": {
   "codemirror_mode": {
    "name": "ipython",
    "version": 3
   },
   "file_extension": ".py",
   "mimetype": "text/x-python",
   "name": "python",
   "nbconvert_exporter": "python",
   "pygments_lexer": "ipython3",
   "version": "3.8.3"
  },
  "toc": {
   "base_numbering": 1,
   "nav_menu": {},
   "number_sections": true,
   "sideBar": true,
   "skip_h1_title": false,
   "title_cell": "Table of Contents",
   "title_sidebar": "Contents",
   "toc_cell": false,
   "toc_position": {},
   "toc_section_display": true,
   "toc_window_display": false
  },
  "varInspector": {
   "cols": {
    "lenName": 16,
    "lenType": 16,
    "lenVar": 40
   },
   "kernels_config": {
    "python": {
     "delete_cmd_postfix": "",
     "delete_cmd_prefix": "del ",
     "library": "var_list.py",
     "varRefreshCmd": "print(var_dic_list())"
    },
    "r": {
     "delete_cmd_postfix": ") ",
     "delete_cmd_prefix": "rm(",
     "library": "var_list.r",
     "varRefreshCmd": "cat(var_dic_list()) "
    }
   },
   "types_to_exclude": [
    "module",
    "function",
    "builtin_function_or_method",
    "instance",
    "_Feature"
   ],
   "window_display": false
  }
 },
 "nbformat": 4,
 "nbformat_minor": 4
}